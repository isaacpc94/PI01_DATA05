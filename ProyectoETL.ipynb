{
 "cells": [
  {
   "cell_type": "code",
   "execution_count": 123,
   "metadata": {},
   "outputs": [],
   "source": [
    "import pandas as pd\n",
    "import numpy as np\n",
    "from fastapi import FastAPI\n",
    "import json"
   ]
  },
  {
   "cell_type": "markdown",
   "metadata": {},
   "source": [
    "Extraccion de datos.\n"
   ]
  },
  {
   "cell_type": "code",
   "execution_count": 145,
   "metadata": {},
   "outputs": [
    {
     "data": {
      "text/html": [
       "<div>\n",
       "<style scoped>\n",
       "    .dataframe tbody tr th:only-of-type {\n",
       "        vertical-align: middle;\n",
       "    }\n",
       "\n",
       "    .dataframe tbody tr th {\n",
       "        vertical-align: top;\n",
       "    }\n",
       "\n",
       "    .dataframe thead th {\n",
       "        text-align: right;\n",
       "    }\n",
       "</style>\n",
       "<table border=\"1\" class=\"dataframe\">\n",
       "  <thead>\n",
       "    <tr style=\"text-align: right;\">\n",
       "      <th></th>\n",
       "      <th>IdPlataforma</th>\n",
       "      <th>Plataforma</th>\n",
       "    </tr>\n",
       "  </thead>\n",
       "  <tbody>\n",
       "    <tr>\n",
       "      <th>0</th>\n",
       "      <td>1</td>\n",
       "      <td>amazon</td>\n",
       "    </tr>\n",
       "    <tr>\n",
       "      <th>1</th>\n",
       "      <td>2</td>\n",
       "      <td>disney</td>\n",
       "    </tr>\n",
       "    <tr>\n",
       "      <th>2</th>\n",
       "      <td>3</td>\n",
       "      <td>hulu</td>\n",
       "    </tr>\n",
       "    <tr>\n",
       "      <th>3</th>\n",
       "      <td>4</td>\n",
       "      <td>netflix</td>\n",
       "    </tr>\n",
       "  </tbody>\n",
       "</table>\n",
       "</div>"
      ],
      "text/plain": [
       "   IdPlataforma Plataforma\n",
       "0             1     amazon\n",
       "1             2     disney\n",
       "2             3       hulu\n",
       "3             4    netflix"
      ]
     },
     "execution_count": 145,
     "metadata": {},
     "output_type": "execute_result"
    }
   ],
   "source": [
    "#se crea una tabla IdPlataforma.\n",
    "dfIdPlataforma=pd.DataFrame({\"IdPlataforma\":[1,2,3,4],\n",
    "                            \"Plataforma\":[\"amazon\",\"disney\",\"hulu\",\"netflix\"]\n",
    "                            })\n",
    "dfIdPlataforma.head()"
   ]
  },
  {
   "cell_type": "code",
   "execution_count": 273,
   "metadata": {},
   "outputs": [],
   "source": [
    "df1=pd.read_csv(\"Datasets/amazon_prime_titles.csv\")\n",
    "df1.drop([\"director\",\"country\",\"date_added\",\"rating\",\"description\"],axis=1,inplace=True)\n",
    "df1.insert(0,\"IdPlataforma\",1)\n",
    "\n",
    "\n",
    "df2=pd.read_csv(\"Datasets/disney_plus_titles.csv\")\n",
    "df2.drop([\"director\",\"country\",\"date_added\",\"rating\",\"description\"],axis=1,inplace=True)\n",
    "df2.insert(0,\"IdPlataforma\",2)\n",
    "\n",
    "df3=pd.read_csv(\"Datasets/hulu_titles.csv\")\n",
    "df3.drop([\"director\",\"country\",\"date_added\",\"rating\",\"description\"],axis=1,inplace=True)\n",
    "df3.insert(0,\"IdPlataforma\",3)\n",
    "\n",
    "with open('Datasets/netflix_titles.json') as file:\n",
    "    data4 = json.load(file)\n",
    "df4 = pd.DataFrame(data4)\n",
    "df4.drop([\"director\",\"country\",\"date_added\",\"rating\",\"description\"],axis=1,inplace=True)\n",
    "df4.insert(0,\"IdPlataforma\",4)\n"
   ]
  },
  {
   "cell_type": "code",
   "execution_count": null,
   "metadata": {},
   "outputs": [],
   "source": [
    "df1.info()# columna cast tiene vacios\n",
    "df2.info()# columna cast tiene vacios\n",
    "df3.info()#columna cast todo esta vacio y columna duracion tiene vacios tb.\n",
    "df4.info()#columna cast tiene vacios y tb la comna duracion tiene algunos vacios."
   ]
  },
  {
   "cell_type": "code",
   "execution_count": 275,
   "metadata": {},
   "outputs": [
    {
     "data": {
      "text/html": [
       "<div>\n",
       "<style scoped>\n",
       "    .dataframe tbody tr th:only-of-type {\n",
       "        vertical-align: middle;\n",
       "    }\n",
       "\n",
       "    .dataframe tbody tr th {\n",
       "        vertical-align: top;\n",
       "    }\n",
       "\n",
       "    .dataframe thead th {\n",
       "        text-align: right;\n",
       "    }\n",
       "</style>\n",
       "<table border=\"1\" class=\"dataframe\">\n",
       "  <thead>\n",
       "    <tr style=\"text-align: right;\">\n",
       "      <th></th>\n",
       "      <th>IdPlataforma</th>\n",
       "      <th>show_id</th>\n",
       "      <th>type</th>\n",
       "      <th>title</th>\n",
       "      <th>cast</th>\n",
       "      <th>release_year</th>\n",
       "      <th>duration</th>\n",
       "      <th>listed_in</th>\n",
       "      <th>IdVideo</th>\n",
       "    </tr>\n",
       "  </thead>\n",
       "  <tbody>\n",
       "    <tr>\n",
       "      <th>0</th>\n",
       "      <td>1</td>\n",
       "      <td>s1</td>\n",
       "      <td>Movie</td>\n",
       "      <td>The Grand Seduction</td>\n",
       "      <td>Brendan Gleeson, Taylor Kitsch, Gordon Pinsent</td>\n",
       "      <td>2014</td>\n",
       "      <td>113 min</td>\n",
       "      <td>Comedy, Drama</td>\n",
       "      <td>2014The Grand SeductionMovie</td>\n",
       "    </tr>\n",
       "  </tbody>\n",
       "</table>\n",
       "</div>"
      ],
      "text/plain": [
       "   IdPlataforma show_id   type                title  \\\n",
       "0             1      s1  Movie  The Grand Seduction   \n",
       "\n",
       "                                             cast  release_year duration  \\\n",
       "0  Brendan Gleeson, Taylor Kitsch, Gordon Pinsent          2014  113 min   \n",
       "\n",
       "       listed_in                       IdVideo  \n",
       "0  Comedy, Drama  2014The Grand SeductionMovie  "
      ]
     },
     "execution_count": 275,
     "metadata": {},
     "output_type": "execute_result"
    }
   ],
   "source": [
    "#reemplaza valores Nan por \"\" y creamos un nuevo IdVideo que hara unico la pelicula mas su año de realizacion mas su tipo\n",
    "dftotal=pd.concat([df1,df2,df3,df4])\n",
    "dftotal.reset_index(inplace=True,drop=True)\n",
    "dftotal.replace(np.nan,\"\",inplace=True)\n",
    "dftotal[\"IdVideo\"]=dftotal[\"release_year\"].apply(str)+dftotal[\"title\"]+dftotal[\"type\"]\n",
    "dftotal.head(1)\n"
   ]
  },
  {
   "cell_type": "code",
   "execution_count": null,
   "metadata": {},
   "outputs": [],
   "source": [
    "#for i in dfa[dfa.duplicated(False)].index:\n",
    "#    for j in dfa[dfa.duplicated(False)].index:\n",
    "#        if i!=j and dftotal.loc[i,\"duration\"]!=dftotal.loc[j,\"duration\"] and dftotal.loc[i,\"IdVideo\"]==dftotal.loc[j,\"IdVideo\"]:\n",
    "#            print(dftotal.loc[i:i,(\"IdVideo\",\"duration\")])"
   ]
  },
  {
   "cell_type": "code",
   "execution_count": 277,
   "metadata": {},
   "outputs": [
    {
     "data": {
      "text/plain": [
       "IdPlataforma       0\n",
       "show_id            0\n",
       "type               0\n",
       "title              0\n",
       "cast            5321\n",
       "release_year       0\n",
       "duration         482\n",
       "listed_in          0\n",
       "IdVideo            0\n",
       "dtype: int64"
      ]
     },
     "execution_count": 277,
     "metadata": {},
     "output_type": "execute_result"
    }
   ],
   "source": [
    "dftotal[dftotal==\"\"].count() # contamos las cantidas vacias, trataremos de reducirlo"
   ]
  },
  {
   "cell_type": "code",
   "execution_count": 278,
   "metadata": {},
   "outputs": [],
   "source": [
    "#Reemplaza los datos vacios en cast por algun duplicado con el mismo IdVideo\n",
    "for i in dftotal[dftotal[\"cast\"]==\"\"].index: #dftotal[dftotal[\"cast\"]==\"\"].index nos da una lista con indices de vacio para la columna cast\n",
    "    for j in dftotal[dftotal[\"IdVideo\"].duplicated(False)].index:#dftotal[dftotal[\"IdVideo\"].duplicated(False)].index nos da una lista con indices duplicados sin excluir los primeros encontrados.\n",
    "        if i!=j and  dftotal.loc[j,\"cast\"]!=\"\" and dftotal.loc[i,\"IdVideo\"]==dftotal.loc[j,\"IdVideo\"]:\n",
    "            dftotal.loc[i,\"cast\"]=dftotal.loc[j,\"cast\"]\n",
    "            break\n",
    "            "
   ]
  },
  {
   "cell_type": "code",
   "execution_count": 279,
   "metadata": {},
   "outputs": [],
   "source": [
    "#Reemplaza los datos vacios en duration por algun duplicado con el mismo IdVideo\n",
    "for i in dftotal[dftotal[\"duration\"]==\"\"].index:#dftotal[dftotal[\"duration\"]==\"\"].index nos da una lista con indices de vacio para la columna duration\n",
    "    for j in dftotal[dftotal[\"IdVideo\"].duplicated(False)].index:#dftotal[dftotal[\"IdVideo\"].duplicated(False)].index nos da una lista con indices duplicados sin excluir los primeros encontrados.\n",
    "        if i!=j and  dftotal.loc[j,\"duration\"]!=\"\" and dftotal.loc[i,\"IdVideo\"]==dftotal.loc[j,\"IdVideo\"]:\n",
    "            dftotal.loc[i,\"duration\"]=dftotal.loc[j,\"duration\"]\n",
    "            break"
   ]
  },
  {
   "cell_type": "code",
   "execution_count": 280,
   "metadata": {},
   "outputs": [
    {
     "data": {
      "text/plain": [
       "IdPlataforma       0\n",
       "show_id            0\n",
       "type               0\n",
       "title              0\n",
       "cast            5146\n",
       "release_year       0\n",
       "duration         451\n",
       "listed_in          0\n",
       "IdVideo            0\n",
       "dtype: int64"
      ]
     },
     "execution_count": 280,
     "metadata": {},
     "output_type": "execute_result"
    }
   ],
   "source": [
    "dftotal[dftotal==\"\"].count()\n",
    "# se logro reducir los vacios de la columna cast de 5321 a 5146\n",
    "# se logro reducir los vacios de la columna duration de 482 a 451"
   ]
  },
  {
   "cell_type": "code",
   "execution_count": 281,
   "metadata": {},
   "outputs": [
    {
     "data": {
      "text/html": [
       "<div>\n",
       "<style scoped>\n",
       "    .dataframe tbody tr th:only-of-type {\n",
       "        vertical-align: middle;\n",
       "    }\n",
       "\n",
       "    .dataframe tbody tr th {\n",
       "        vertical-align: top;\n",
       "    }\n",
       "\n",
       "    .dataframe thead th {\n",
       "        text-align: right;\n",
       "    }\n",
       "</style>\n",
       "<table border=\"1\" class=\"dataframe\">\n",
       "  <thead>\n",
       "    <tr style=\"text-align: right;\">\n",
       "      <th></th>\n",
       "      <th>IdPlataforma</th>\n",
       "      <th>IdVideo</th>\n",
       "      <th>cast</th>\n",
       "    </tr>\n",
       "  </thead>\n",
       "  <tbody>\n",
       "    <tr>\n",
       "      <th>0</th>\n",
       "      <td>1</td>\n",
       "      <td>2014The Grand SeductionMovie</td>\n",
       "      <td>Brendan Gleeson</td>\n",
       "    </tr>\n",
       "    <tr>\n",
       "      <th>1</th>\n",
       "      <td>1</td>\n",
       "      <td>2014The Grand SeductionMovie</td>\n",
       "      <td>Taylor Kitsch</td>\n",
       "    </tr>\n",
       "    <tr>\n",
       "      <th>2</th>\n",
       "      <td>1</td>\n",
       "      <td>2014The Grand SeductionMovie</td>\n",
       "      <td>Gordon Pinsent</td>\n",
       "    </tr>\n",
       "    <tr>\n",
       "      <th>3</th>\n",
       "      <td>1</td>\n",
       "      <td>2018Take Care Good NightMovie</td>\n",
       "      <td>Mahesh Manjrekar</td>\n",
       "    </tr>\n",
       "    <tr>\n",
       "      <th>4</th>\n",
       "      <td>1</td>\n",
       "      <td>2018Take Care Good NightMovie</td>\n",
       "      <td>Abhay Mahajan</td>\n",
       "    </tr>\n",
       "  </tbody>\n",
       "</table>\n",
       "</div>"
      ],
      "text/plain": [
       "   IdPlataforma                        IdVideo              cast\n",
       "0             1   2014The Grand SeductionMovie   Brendan Gleeson\n",
       "1             1   2014The Grand SeductionMovie     Taylor Kitsch\n",
       "2             1   2014The Grand SeductionMovie    Gordon Pinsent\n",
       "3             1  2018Take Care Good NightMovie  Mahesh Manjrekar\n",
       "4             1  2018Take Care Good NightMovie     Abhay Mahajan"
      ]
     },
     "execution_count": 281,
     "metadata": {},
     "output_type": "execute_result"
    }
   ],
   "source": [
    "#se atomiza los datos de la columna cast para obtener la normalizacion F1\n",
    "dfcast=dftotal.loc[:,(\"IdPlataforma\",\"IdVideo\",\"cast\")]\n",
    "ll=[]\n",
    "mm=[]\n",
    "nn=[]\n",
    "for i in range(0,len(dfcast.iloc[:,2])):\n",
    "    if \",\" in dfcast.iloc[i,2]:\n",
    "        for j in list(dfcast.iloc[i,2].split(\",\")):\n",
    "            ll.append(dfcast.iloc[i,0])\n",
    "            mm.append(dfcast.iloc[i,1])\n",
    "            nn.append(j)\n",
    "    else:\n",
    "        ll.append(dfcast.iloc[i,0])\n",
    "        mm.append(dfcast.iloc[i,1])\n",
    "        nn.append(dfcast.iloc[i,2])\n",
    "\n",
    "nn=list(map(str.strip,nn))\n",
    "dfcast=pd.DataFrame({\"IdPlataforma\":ll,\n",
    "                \"IdVideo\":mm,\n",
    "                \"cast\":nn})\n",
    "dfcast.head(5)"
   ]
  },
  {
   "cell_type": "code",
   "execution_count": 282,
   "metadata": {},
   "outputs": [
    {
     "name": "stdout",
     "output_type": "stream",
     "text": [
      "<class 'pandas.core.frame.DataFrame'>\n",
      "RangeIndex: 120866 entries, 0 to 120865\n",
      "Data columns (total 3 columns):\n",
      " #   Column        Non-Null Count   Dtype \n",
      "---  ------        --------------   ----- \n",
      " 0   IdPlataforma  120866 non-null  int64 \n",
      " 1   IdVideo       120866 non-null  object\n",
      " 2   cast          120866 non-null  object\n",
      "dtypes: int64(1), object(2)\n",
      "memory usage: 2.8+ MB\n"
     ]
    }
   ],
   "source": [
    "#Se quitan duplicados en la tabla cast y se tiene listo la tabla cast\n",
    "dfcast.drop_duplicates(inplace=True)\n",
    "dfcast.reset_index(inplace=True,drop=True)\n",
    "dfcast.info()"
   ]
  },
  {
   "cell_type": "code",
   "execution_count": 284,
   "metadata": {},
   "outputs": [
    {
     "data": {
      "text/html": [
       "<div>\n",
       "<style scoped>\n",
       "    .dataframe tbody tr th:only-of-type {\n",
       "        vertical-align: middle;\n",
       "    }\n",
       "\n",
       "    .dataframe tbody tr th {\n",
       "        vertical-align: top;\n",
       "    }\n",
       "\n",
       "    .dataframe thead th {\n",
       "        text-align: right;\n",
       "    }\n",
       "</style>\n",
       "<table border=\"1\" class=\"dataframe\">\n",
       "  <thead>\n",
       "    <tr style=\"text-align: right;\">\n",
       "      <th></th>\n",
       "      <th>IdPlataforma</th>\n",
       "      <th>IdVideo</th>\n",
       "      <th>listed_in</th>\n",
       "    </tr>\n",
       "  </thead>\n",
       "  <tbody>\n",
       "    <tr>\n",
       "      <th>0</th>\n",
       "      <td>1</td>\n",
       "      <td>2014The Grand SeductionMovie</td>\n",
       "      <td>Comedy</td>\n",
       "    </tr>\n",
       "    <tr>\n",
       "      <th>1</th>\n",
       "      <td>1</td>\n",
       "      <td>2014The Grand SeductionMovie</td>\n",
       "      <td>Drama</td>\n",
       "    </tr>\n",
       "    <tr>\n",
       "      <th>2</th>\n",
       "      <td>1</td>\n",
       "      <td>2018Take Care Good NightMovie</td>\n",
       "      <td>Drama</td>\n",
       "    </tr>\n",
       "    <tr>\n",
       "      <th>3</th>\n",
       "      <td>1</td>\n",
       "      <td>2018Take Care Good NightMovie</td>\n",
       "      <td>International</td>\n",
       "    </tr>\n",
       "    <tr>\n",
       "      <th>4</th>\n",
       "      <td>1</td>\n",
       "      <td>2017Secrets of DeceptionMovie</td>\n",
       "      <td>Action</td>\n",
       "    </tr>\n",
       "  </tbody>\n",
       "</table>\n",
       "</div>"
      ],
      "text/plain": [
       "   IdPlataforma                        IdVideo      listed_in\n",
       "0             1   2014The Grand SeductionMovie         Comedy\n",
       "1             1   2014The Grand SeductionMovie          Drama\n",
       "2             1  2018Take Care Good NightMovie          Drama\n",
       "3             1  2018Take Care Good NightMovie  International\n",
       "4             1  2017Secrets of DeceptionMovie         Action"
      ]
     },
     "execution_count": 284,
     "metadata": {},
     "output_type": "execute_result"
    }
   ],
   "source": [
    "#se atomiza los datos de la columna listed_in para obtener la normalizacion F1\n",
    "dflisted=dftotal.loc[:,(\"IdPlataforma\",\"IdVideo\",\"listed_in\")]\n",
    "ll=[]\n",
    "mm=[]\n",
    "nn=[]\n",
    "for i in range(0,len(dflisted.iloc[:,2])):\n",
    "    if \",\" in dflisted.iloc[i,2]:\n",
    "        for j in list(dflisted.iloc[i,2].split(\",\")):\n",
    "            ll.append(dflisted.iloc[i,0])\n",
    "            mm.append(dflisted.iloc[i,1])\n",
    "            nn.append(j)\n",
    "    else:\n",
    "        ll.append(dflisted.iloc[i,0])\n",
    "        mm.append(dflisted.iloc[i,1])\n",
    "        nn.append(dflisted.iloc[i,2])\n",
    "\n",
    "nn=list(map(str.strip,nn))\n",
    "dflisted=pd.DataFrame({\"IdPlataforma\":ll,\n",
    "                \"IdVideo\":mm,\n",
    "                \"listed_in\":nn})\n",
    "dflisted.head(5)"
   ]
  },
  {
   "cell_type": "code",
   "execution_count": 285,
   "metadata": {},
   "outputs": [
    {
     "name": "stdout",
     "output_type": "stream",
     "text": [
      "<class 'pandas.core.frame.DataFrame'>\n",
      "RangeIndex: 48303 entries, 0 to 48302\n",
      "Data columns (total 3 columns):\n",
      " #   Column        Non-Null Count  Dtype \n",
      "---  ------        --------------  ----- \n",
      " 0   IdPlataforma  48303 non-null  int64 \n",
      " 1   IdVideo       48303 non-null  object\n",
      " 2   listed_in     48303 non-null  object\n",
      "dtypes: int64(1), object(2)\n",
      "memory usage: 1.1+ MB\n"
     ]
    }
   ],
   "source": [
    "#se quitan los duplicados en la tabla listed y se tiene listo la tabla listed_in\n",
    "dflisted.drop_duplicates(inplace=True)\n",
    "dflisted.reset_index(inplace=True,drop=True)\n",
    "dflisted.info()"
   ]
  },
  {
   "cell_type": "code",
   "execution_count": 287,
   "metadata": {},
   "outputs": [
    {
     "name": "stdout",
     "output_type": "stream",
     "text": [
      "<class 'pandas.core.frame.DataFrame'>\n",
      "RangeIndex: 22608 entries, 0 to 22607\n",
      "Data columns (total 4 columns):\n",
      " #   Column        Non-Null Count  Dtype \n",
      "---  ------        --------------  ----- \n",
      " 0   IdVideo       22608 non-null  object\n",
      " 1   title         22608 non-null  object\n",
      " 2   release_year  22608 non-null  int64 \n",
      " 3   type          22608 non-null  object\n",
      "dtypes: int64(1), object(3)\n",
      "memory usage: 706.6+ KB\n"
     ]
    }
   ],
   "source": [
    "#se tiene listo la tabla Video\n",
    "dfVideo=dftotal.loc[:,(\"IdVideo\",\"title\",\"release_year\",\"type\")]\n",
    "dfVideo.drop_duplicates(inplace=True)\n",
    "dfVideo.reset_index(inplace=True,drop=True)\n",
    "dfVideo.info()"
   ]
  },
  {
   "cell_type": "code",
   "execution_count": 288,
   "metadata": {},
   "outputs": [],
   "source": [
    "#Se tienelisto la tabla plataforma\n",
    "dfPlataforma=dftotal.loc[:,(\"IdPlataforma\",\"IdVideo\",\"duration\")]"
   ]
  },
  {
   "cell_type": "code",
   "execution_count": 289,
   "metadata": {},
   "outputs": [],
   "source": [
    "#Exportamos las tablas para ser cargads en SQL\n",
    "dfIdPlataforma.to_csv(\"tables/IdPlataforma.csv\")\n",
    "dfPlataforma.to_csv(\"tables/Plataforma.csv\")\n",
    "dfcast.to_csv(\"tables/cast.csv\",encoding=\"utf-8\")\n",
    "dflisted.to_csv(\"tables/listed.csv\")\n",
    "dfVideo.to_csv(\"tables/Video.csv\")"
   ]
  },
  {
   "cell_type": "code",
   "execution_count": 311,
   "metadata": {},
   "outputs": [
    {
     "name": "stdout",
     "output_type": "stream",
     "text": [
      "<class 'pandas.core.frame.DataFrame'>\n",
      "RangeIndex: 22998 entries, 0 to 22997\n",
      "Data columns (total 3 columns):\n",
      " #   Column        Non-Null Count  Dtype \n",
      "---  ------        --------------  ----- \n",
      " 0   IdPlataforma  22998 non-null  int64 \n",
      " 1   IdVideo       22998 non-null  object\n",
      " 2   duration      22998 non-null  object\n",
      "dtypes: int64(1), object(2)\n",
      "memory usage: 539.1+ KB\n",
      "<class 'pandas.core.frame.DataFrame'>\n",
      "RangeIndex: 22608 entries, 0 to 22607\n",
      "Data columns (total 4 columns):\n",
      " #   Column        Non-Null Count  Dtype \n",
      "---  ------        --------------  ----- \n",
      " 0   IdVideo       22608 non-null  object\n",
      " 1   title         22608 non-null  object\n",
      " 2   release_year  22608 non-null  int64 \n",
      " 3   type          22608 non-null  object\n",
      "dtypes: int64(1), object(3)\n",
      "memory usage: 706.6+ KB\n",
      "<class 'pandas.core.frame.DataFrame'>\n",
      "RangeIndex: 120866 entries, 0 to 120865\n",
      "Data columns (total 3 columns):\n",
      " #   Column        Non-Null Count   Dtype \n",
      "---  ------        --------------   ----- \n",
      " 0   IdPlataforma  120866 non-null  int64 \n",
      " 1   IdVideo       120866 non-null  object\n",
      " 2   cast          120866 non-null  object\n",
      "dtypes: int64(1), object(2)\n",
      "memory usage: 2.8+ MB\n",
      "<class 'pandas.core.frame.DataFrame'>\n",
      "RangeIndex: 48303 entries, 0 to 48302\n",
      "Data columns (total 3 columns):\n",
      " #   Column        Non-Null Count  Dtype \n",
      "---  ------        --------------  ----- \n",
      " 0   IdPlataforma  48303 non-null  int64 \n",
      " 1   IdVideo       48303 non-null  object\n",
      " 2   listed_in     48303 non-null  object\n",
      "dtypes: int64(1), object(2)\n",
      "memory usage: 1.1+ MB\n",
      "<class 'pandas.core.frame.DataFrame'>\n",
      "RangeIndex: 4 entries, 0 to 3\n",
      "Data columns (total 2 columns):\n",
      " #   Column        Non-Null Count  Dtype \n",
      "---  ------        --------------  ----- \n",
      " 0   IdPlataforma  4 non-null      int64 \n",
      " 1   Plataforma    4 non-null      object\n",
      "dtypes: int64(1), object(1)\n",
      "memory usage: 192.0+ bytes\n"
     ]
    }
   ],
   "source": [
    "dfPlataforma.info()\n",
    "dfVideo.info()\n",
    "dfcast.info()\n",
    "dflisted.info()\n",
    "dfIdPlataforma.info()"
   ]
  }
 ],
 "metadata": {
  "kernelspec": {
   "display_name": "Python 3.10.5 64-bit",
   "language": "python",
   "name": "python3"
  },
  "language_info": {
   "codemirror_mode": {
    "name": "ipython",
    "version": 3
   },
   "file_extension": ".py",
   "mimetype": "text/x-python",
   "name": "python",
   "nbconvert_exporter": "python",
   "pygments_lexer": "ipython3",
   "version": "3.10.5"
  },
  "orig_nbformat": 4,
  "vscode": {
   "interpreter": {
    "hash": "8c3d4d9970fc5c09c50d9318a9c7fbf4d0159e4b28833276f5678ee22bded273"
   }
  }
 },
 "nbformat": 4,
 "nbformat_minor": 2
}
