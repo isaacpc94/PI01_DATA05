{
 "cells": [
  {
   "cell_type": "code",
   "execution_count": 1,
   "metadata": {},
   "outputs": [],
   "source": [
    "import pandas as pd\n",
    "import numpy as np\n",
    "from fastapi import FastAPI\n",
    "import json\n",
    "import pymysql"
   ]
  },
  {
   "cell_type": "code",
   "execution_count": 54,
   "metadata": {},
   "outputs": [],
   "source": [
    "conexion = pymysql.connect(\n",
    "   host = 'localhost',\n",
    "   user = 'root',\n",
    "   passwd = '',\n",
    "   db= 'video',\n",
    "   port=3307\n",
    ")\n",
    "\n",
    "cursor = conexion.cursor()"
   ]
  },
  {
   "cell_type": "code",
   "execution_count": 56,
   "metadata": {},
   "outputs": [
    {
     "name": "stdout",
     "output_type": "stream",
     "text": [
      "('The House That Jack Built', 2018, 'hulu', 'Movie', '151 min', 151)\n"
     ]
    }
   ],
   "source": [
    "cursor.execute(\"select d.title,d.release_year,d.Plataforma,d.type,d.duration,convert(SUBSTRING_INDEX(d.duration,' ', 1), UNSIGNED INTEGER) AS durnum from \\\n",
    " (select a.IdPlataforma,a.Plataforma,b.duration,c.release_year,c.type,c.title from\\\n",
    " idplataforma a join plataforma b on (a.IdPlataforma=b.IdPlataforma)\\\n",
    " join video c on (binary b.IdVideo=binary c.IdVideo)\\\n",
    " ) d where d.type='Movie' and d.Plataforma='hulu' and d.release_year=2018 \\\n",
    "order by 6 desc \\\n",
    "limit 1\")\n",
    "for alumno in cursor:\n",
    "    print(alumno)"
   ]
  },
  {
   "cell_type": "code",
   "execution_count": 57,
   "metadata": {},
   "outputs": [
    {
     "name": "stdout",
     "output_type": "stream",
     "text": [
      "('netflix', 'Movie', 6131)\n",
      "('netflix', 'TV Show', 2676)\n"
     ]
    }
   ],
   "source": [
    "cursor.execute(\"select a.Plataforma,c.type,count(*) from \\\n",
    " idplataforma a join plataforma b on (a.IdPlataforma=b.IdPlataforma) \\\n",
    " join video c on (binary b.IdVideo=binary c.IdVideo) \\\n",
    " where a.Plataforma='netflix' \\\n",
    " group by 2 order by 2\")\n",
    "for alumno in cursor:\n",
    "    print(alumno)"
   ]
  },
  {
   "cell_type": "code",
   "execution_count": 52,
   "metadata": {},
   "outputs": [
    {
     "name": "stdout",
     "output_type": "stream",
     "text": [
      "('amazon', 'Comedy', 2099)\n"
     ]
    }
   ],
   "source": [
    "cursor.execute(\"select a.Plataforma,c.listed_in,count(*) from \\\n",
    " idplataforma a join plataforma b on (a.IdPlataforma=b.IdPlataforma) \\\n",
    " join (select * from listed  \\\n",
    " where listed_in like 'comed%') c on (b.IdPlataforma= c.IdPlataforma and (binary b.IdVideo= binary c.IdVideo) ) \\\n",
    " group by 1 \\\n",
    " order by 3 desc \\\n",
    " limit 1\")\n",
    "for alumno in cursor:\n",
    "    print(alumno)"
   ]
  },
  {
   "cell_type": "code",
   "execution_count": 53,
   "metadata": {},
   "outputs": [
    {
     "name": "stdout",
     "output_type": "stream",
     "text": [
      "('netflix', 'Andrea Libman', '2018My Little Pony: Friendship Is MagicTV Show', 2018, 8)\n"
     ]
    }
   ],
   "source": [
    "cursor.execute(\"select a.Plataforma,d.cast,b.IdVideo,c.release_year,count(*) as cantidad from \\\n",
    " idplataforma a join plataforma b on (a.IdPlataforma=b.IdPlataforma) \\\n",
    " join video c on (binary b.IdVideo=binary c.IdVideo) \\\n",
    " join cast d on (binary c.IdVideo=binary d.IdVideo) \\\n",
    " where a.Plataforma='netflix' and c.release_year=2018 \\\n",
    " group by d.cast \\\n",
    " having cast !='' \\\n",
    " order by 5 desc \\\n",
    " limit 1\")\n",
    "for alumno in cursor:\n",
    "    print(alumno)"
   ]
  }
 ],
 "metadata": {
  "kernelspec": {
   "display_name": "Python 3.10.5 64-bit",
   "language": "python",
   "name": "python3"
  },
  "language_info": {
   "codemirror_mode": {
    "name": "ipython",
    "version": 3
   },
   "file_extension": ".py",
   "mimetype": "text/x-python",
   "name": "python",
   "nbconvert_exporter": "python",
   "pygments_lexer": "ipython3",
   "version": "3.10.5"
  },
  "orig_nbformat": 4,
  "vscode": {
   "interpreter": {
    "hash": "8c3d4d9970fc5c09c50d9318a9c7fbf4d0159e4b28833276f5678ee22bded273"
   }
  }
 },
 "nbformat": 4,
 "nbformat_minor": 2
}
